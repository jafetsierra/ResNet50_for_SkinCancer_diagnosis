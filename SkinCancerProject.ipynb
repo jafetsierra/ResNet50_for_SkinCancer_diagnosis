{
  "cells": [
    {
      "cell_type": "markdown",
      "source": [
        "# SikinCancer medical diagnosis with transfer learning\n",
        "\n",
        "\n",
        "*   author: Jafet Israel Sierra Lagos\n",
        "*   contact: jafet.sierra.l@gmail.com\n",
        "\n",
        "\n"
      ],
      "metadata": {
        "id": "UwpTVtp3J5nI"
      }
    },
    {
      "cell_type": "code",
      "source": [
        "gpu_info = !nvidia-smi\n",
        "gpu_info = '\\n'.join(gpu_info)\n",
        "if gpu_info.find('failed') >= 0:\n",
        "  print('Not connected to a GPU')\n",
        "else:\n",
        "  print(gpu_info)"
      ],
      "metadata": {
        "id": "A-czt8grVNTj",
        "colab": {
          "base_uri": "https://localhost:8080/"
        },
        "outputId": "cd2754e5-18ae-4ec9-c2ff-f46975e0989f"
      },
      "execution_count": 1,
      "outputs": [
        {
          "output_type": "stream",
          "name": "stdout",
          "text": [
            "Fri Jun 17 20:43:29 2022       \n",
            "+-----------------------------------------------------------------------------+\n",
            "| NVIDIA-SMI 460.32.03    Driver Version: 460.32.03    CUDA Version: 11.2     |\n",
            "|-------------------------------+----------------------+----------------------+\n",
            "| GPU  Name        Persistence-M| Bus-Id        Disp.A | Volatile Uncorr. ECC |\n",
            "| Fan  Temp  Perf  Pwr:Usage/Cap|         Memory-Usage | GPU-Util  Compute M. |\n",
            "|                               |                      |               MIG M. |\n",
            "|===============================+======================+======================|\n",
            "|   0  Tesla P100-PCIE...  Off  | 00000000:00:04.0 Off |                    0 |\n",
            "| N/A   36C    P0    26W / 250W |      0MiB / 16280MiB |      0%      Default |\n",
            "|                               |                      |                  N/A |\n",
            "+-------------------------------+----------------------+----------------------+\n",
            "                                                                               \n",
            "+-----------------------------------------------------------------------------+\n",
            "| Processes:                                                                  |\n",
            "|  GPU   GI   CI        PID   Type   Process name                  GPU Memory |\n",
            "|        ID   ID                                                   Usage      |\n",
            "|=============================================================================|\n",
            "|  No running processes found                                                 |\n",
            "+-----------------------------------------------------------------------------+\n"
          ]
        }
      ]
    },
    {
      "cell_type": "code",
      "execution_count": 2,
      "metadata": {
        "id": "erSGrv2KRvMg",
        "colab": {
          "base_uri": "https://localhost:8080/"
        },
        "outputId": "fe47a95f-5a42-48df-8f0c-4695fa17202b"
      },
      "outputs": [
        {
          "output_type": "stream",
          "name": "stdout",
          "text": [
            "Mounted at /content/drive\n"
          ]
        }
      ],
      "source": [
        "#First conect to drive\n",
        "from google.colab import drive\n",
        "drive.mount('/content/drive')"
      ]
    },
    {
      "cell_type": "code",
      "source": [
        "! unzip '/content/drive/MyDrive/Proyectos/SkinCancer/data.zip'"
      ],
      "metadata": {
        "id": "r70ndbxqWkQh"
      },
      "execution_count": null,
      "outputs": []
    },
    {
      "cell_type": "code",
      "execution_count": 4,
      "metadata": {
        "id": "dIVgz69URnvS"
      },
      "outputs": [],
      "source": [
        "#Importamos todas las librerias y paquetes necesarios\n",
        "import os\n",
        "import csv\n",
        "import shutil\n",
        "import numpy as np\n",
        "import pandas as pd\n",
        "import matplotlib.pyplot as plt\n",
        "import tensorflow as tf\n",
        "from tensorflow.keras.layers import Conv2D, MaxPooling2D, Dense, Dropout, InputLayer, Flatten, Input, GlobalAveragePooling2D, BatchNormalization\n",
        "from tensorflow.keras.layers import Activation\n",
        "from tensorflow.keras.models import Sequential, Model\n",
        "from sklearn.model_selection import train_test_split\n",
        "from tensorflow import keras\n",
        "from keras.preprocessing.image import ImageDataGenerator\n",
        "#from tensorflow.keras.applications.resnet_v2 import ResNet50V2\n",
        "from tensorflow.keras.applications.vgg19 import VGG19\n",
        "from tensorflow.keras.applications.vgg19 import preprocess_input\n",
        "from tensorflow.keras.optimizers import Adadelta, Adam, RMSprop\n",
        "from tensorflow.keras.callbacks import EarlyStopping, ReduceLROnPlateau, ModelCheckpoint\n",
        "from tensorflow.keras.regularizers import L2\n",
        "from sklearn.metrics import f1_score\n",
        "from sklearn.metrics import confusion_matrix, ConfusionMatrixDisplay"
      ]
    },
    {
      "cell_type": "markdown",
      "metadata": {
        "id": "FDCoA892Tvrk"
      },
      "source": [
        "## Ordenamiento de datos y creacion de subcarpetas por cada clase"
      ]
    },
    {
      "cell_type": "code",
      "execution_count": null,
      "metadata": {
        "colab": {
          "base_uri": "https://localhost:8080/",
          "height": 206
        },
        "id": "plFVCihDUali",
        "outputId": "10e9e0a7-536e-4cae-afad-4b765a18f6b0"
      },
      "outputs": [
        {
          "output_type": "execute_result",
          "data": {
            "text/plain": [
              "     lesion_id      image_id   dx dx_type   age   sex localization\n",
              "0  HAM_0000118  ISIC_0027419  bkl   histo  80.0  male        scalp\n",
              "1  HAM_0000118  ISIC_0025030  bkl   histo  80.0  male        scalp\n",
              "2  HAM_0002730  ISIC_0026769  bkl   histo  80.0  male        scalp\n",
              "3  HAM_0002730  ISIC_0025661  bkl   histo  80.0  male        scalp\n",
              "4  HAM_0001466  ISIC_0031633  bkl   histo  75.0  male          ear"
            ],
            "text/html": [
              "\n",
              "  <div id=\"df-f2755316-ea86-4311-b95a-54c8877e9ca5\">\n",
              "    <div class=\"colab-df-container\">\n",
              "      <div>\n",
              "<style scoped>\n",
              "    .dataframe tbody tr th:only-of-type {\n",
              "        vertical-align: middle;\n",
              "    }\n",
              "\n",
              "    .dataframe tbody tr th {\n",
              "        vertical-align: top;\n",
              "    }\n",
              "\n",
              "    .dataframe thead th {\n",
              "        text-align: right;\n",
              "    }\n",
              "</style>\n",
              "<table border=\"1\" class=\"dataframe\">\n",
              "  <thead>\n",
              "    <tr style=\"text-align: right;\">\n",
              "      <th></th>\n",
              "      <th>lesion_id</th>\n",
              "      <th>image_id</th>\n",
              "      <th>dx</th>\n",
              "      <th>dx_type</th>\n",
              "      <th>age</th>\n",
              "      <th>sex</th>\n",
              "      <th>localization</th>\n",
              "    </tr>\n",
              "  </thead>\n",
              "  <tbody>\n",
              "    <tr>\n",
              "      <th>0</th>\n",
              "      <td>HAM_0000118</td>\n",
              "      <td>ISIC_0027419</td>\n",
              "      <td>bkl</td>\n",
              "      <td>histo</td>\n",
              "      <td>80.0</td>\n",
              "      <td>male</td>\n",
              "      <td>scalp</td>\n",
              "    </tr>\n",
              "    <tr>\n",
              "      <th>1</th>\n",
              "      <td>HAM_0000118</td>\n",
              "      <td>ISIC_0025030</td>\n",
              "      <td>bkl</td>\n",
              "      <td>histo</td>\n",
              "      <td>80.0</td>\n",
              "      <td>male</td>\n",
              "      <td>scalp</td>\n",
              "    </tr>\n",
              "    <tr>\n",
              "      <th>2</th>\n",
              "      <td>HAM_0002730</td>\n",
              "      <td>ISIC_0026769</td>\n",
              "      <td>bkl</td>\n",
              "      <td>histo</td>\n",
              "      <td>80.0</td>\n",
              "      <td>male</td>\n",
              "      <td>scalp</td>\n",
              "    </tr>\n",
              "    <tr>\n",
              "      <th>3</th>\n",
              "      <td>HAM_0002730</td>\n",
              "      <td>ISIC_0025661</td>\n",
              "      <td>bkl</td>\n",
              "      <td>histo</td>\n",
              "      <td>80.0</td>\n",
              "      <td>male</td>\n",
              "      <td>scalp</td>\n",
              "    </tr>\n",
              "    <tr>\n",
              "      <th>4</th>\n",
              "      <td>HAM_0001466</td>\n",
              "      <td>ISIC_0031633</td>\n",
              "      <td>bkl</td>\n",
              "      <td>histo</td>\n",
              "      <td>75.0</td>\n",
              "      <td>male</td>\n",
              "      <td>ear</td>\n",
              "    </tr>\n",
              "  </tbody>\n",
              "</table>\n",
              "</div>\n",
              "      <button class=\"colab-df-convert\" onclick=\"convertToInteractive('df-f2755316-ea86-4311-b95a-54c8877e9ca5')\"\n",
              "              title=\"Convert this dataframe to an interactive table.\"\n",
              "              style=\"display:none;\">\n",
              "        \n",
              "  <svg xmlns=\"http://www.w3.org/2000/svg\" height=\"24px\"viewBox=\"0 0 24 24\"\n",
              "       width=\"24px\">\n",
              "    <path d=\"M0 0h24v24H0V0z\" fill=\"none\"/>\n",
              "    <path d=\"M18.56 5.44l.94 2.06.94-2.06 2.06-.94-2.06-.94-.94-2.06-.94 2.06-2.06.94zm-11 1L8.5 8.5l.94-2.06 2.06-.94-2.06-.94L8.5 2.5l-.94 2.06-2.06.94zm10 10l.94 2.06.94-2.06 2.06-.94-2.06-.94-.94-2.06-.94 2.06-2.06.94z\"/><path d=\"M17.41 7.96l-1.37-1.37c-.4-.4-.92-.59-1.43-.59-.52 0-1.04.2-1.43.59L10.3 9.45l-7.72 7.72c-.78.78-.78 2.05 0 2.83L4 21.41c.39.39.9.59 1.41.59.51 0 1.02-.2 1.41-.59l7.78-7.78 2.81-2.81c.8-.78.8-2.07 0-2.86zM5.41 20L4 18.59l7.72-7.72 1.47 1.35L5.41 20z\"/>\n",
              "  </svg>\n",
              "      </button>\n",
              "      \n",
              "  <style>\n",
              "    .colab-df-container {\n",
              "      display:flex;\n",
              "      flex-wrap:wrap;\n",
              "      gap: 12px;\n",
              "    }\n",
              "\n",
              "    .colab-df-convert {\n",
              "      background-color: #E8F0FE;\n",
              "      border: none;\n",
              "      border-radius: 50%;\n",
              "      cursor: pointer;\n",
              "      display: none;\n",
              "      fill: #1967D2;\n",
              "      height: 32px;\n",
              "      padding: 0 0 0 0;\n",
              "      width: 32px;\n",
              "    }\n",
              "\n",
              "    .colab-df-convert:hover {\n",
              "      background-color: #E2EBFA;\n",
              "      box-shadow: 0px 1px 2px rgba(60, 64, 67, 0.3), 0px 1px 3px 1px rgba(60, 64, 67, 0.15);\n",
              "      fill: #174EA6;\n",
              "    }\n",
              "\n",
              "    [theme=dark] .colab-df-convert {\n",
              "      background-color: #3B4455;\n",
              "      fill: #D2E3FC;\n",
              "    }\n",
              "\n",
              "    [theme=dark] .colab-df-convert:hover {\n",
              "      background-color: #434B5C;\n",
              "      box-shadow: 0px 1px 3px 1px rgba(0, 0, 0, 0.15);\n",
              "      filter: drop-shadow(0px 1px 2px rgba(0, 0, 0, 0.3));\n",
              "      fill: #FFFFFF;\n",
              "    }\n",
              "  </style>\n",
              "\n",
              "      <script>\n",
              "        const buttonEl =\n",
              "          document.querySelector('#df-f2755316-ea86-4311-b95a-54c8877e9ca5 button.colab-df-convert');\n",
              "        buttonEl.style.display =\n",
              "          google.colab.kernel.accessAllowed ? 'block' : 'none';\n",
              "\n",
              "        async function convertToInteractive(key) {\n",
              "          const element = document.querySelector('#df-f2755316-ea86-4311-b95a-54c8877e9ca5');\n",
              "          const dataTable =\n",
              "            await google.colab.kernel.invokeFunction('convertToInteractive',\n",
              "                                                     [key], {});\n",
              "          if (!dataTable) return;\n",
              "\n",
              "          const docLinkHtml = 'Like what you see? Visit the ' +\n",
              "            '<a target=\"_blank\" href=https://colab.research.google.com/notebooks/data_table.ipynb>data table notebook</a>'\n",
              "            + ' to learn more about interactive tables.';\n",
              "          element.innerHTML = '';\n",
              "          dataTable['output_type'] = 'display_data';\n",
              "          await google.colab.output.renderOutput(dataTable, element);\n",
              "          const docLink = document.createElement('div');\n",
              "          docLink.innerHTML = docLinkHtml;\n",
              "          element.appendChild(docLink);\n",
              "        }\n",
              "      </script>\n",
              "    </div>\n",
              "  </div>\n",
              "  "
            ]
          },
          "metadata": {},
          "execution_count": 9
        }
      ],
      "source": [
        "#Meta data and file index with images ids and diagnosis \n",
        "#Archivo con los id's de cada imagen y el diagnostico \n",
        "df = pd.read_csv('/content/drive/MyDrive/Proyectos/SkinCancer/HAM10000_metadata.csv')\n",
        "df.head()"
      ]
    },
    {
      "cell_type": "markdown",
      "source": [
        "### image path"
      ],
      "metadata": {
        "id": "cWprfmmWmqU7"
      }
    },
    {
      "cell_type": "code",
      "execution_count": null,
      "metadata": {
        "colab": {
          "base_uri": "https://localhost:8080/",
          "height": 81
        },
        "id": "r8hRJBh9Sl7W",
        "outputId": "772476d4-f98c-4d71-85b0-08830a90d097"
      },
      "outputs": [
        {
          "output_type": "execute_result",
          "data": {
            "text/plain": [
              "       lesion_id      image_id   dx dx_type   age   sex     localization\n",
              "700  HAM_0001359  ISIC_0024312  bkl   histo  75.0  male  lower extremity"
            ],
            "text/html": [
              "\n",
              "  <div id=\"df-8b9ebdd3-a4e6-431c-80c8-5bae9658f53b\">\n",
              "    <div class=\"colab-df-container\">\n",
              "      <div>\n",
              "<style scoped>\n",
              "    .dataframe tbody tr th:only-of-type {\n",
              "        vertical-align: middle;\n",
              "    }\n",
              "\n",
              "    .dataframe tbody tr th {\n",
              "        vertical-align: top;\n",
              "    }\n",
              "\n",
              "    .dataframe thead th {\n",
              "        text-align: right;\n",
              "    }\n",
              "</style>\n",
              "<table border=\"1\" class=\"dataframe\">\n",
              "  <thead>\n",
              "    <tr style=\"text-align: right;\">\n",
              "      <th></th>\n",
              "      <th>lesion_id</th>\n",
              "      <th>image_id</th>\n",
              "      <th>dx</th>\n",
              "      <th>dx_type</th>\n",
              "      <th>age</th>\n",
              "      <th>sex</th>\n",
              "      <th>localization</th>\n",
              "    </tr>\n",
              "  </thead>\n",
              "  <tbody>\n",
              "    <tr>\n",
              "      <th>700</th>\n",
              "      <td>HAM_0001359</td>\n",
              "      <td>ISIC_0024312</td>\n",
              "      <td>bkl</td>\n",
              "      <td>histo</td>\n",
              "      <td>75.0</td>\n",
              "      <td>male</td>\n",
              "      <td>lower extremity</td>\n",
              "    </tr>\n",
              "  </tbody>\n",
              "</table>\n",
              "</div>\n",
              "      <button class=\"colab-df-convert\" onclick=\"convertToInteractive('df-8b9ebdd3-a4e6-431c-80c8-5bae9658f53b')\"\n",
              "              title=\"Convert this dataframe to an interactive table.\"\n",
              "              style=\"display:none;\">\n",
              "        \n",
              "  <svg xmlns=\"http://www.w3.org/2000/svg\" height=\"24px\"viewBox=\"0 0 24 24\"\n",
              "       width=\"24px\">\n",
              "    <path d=\"M0 0h24v24H0V0z\" fill=\"none\"/>\n",
              "    <path d=\"M18.56 5.44l.94 2.06.94-2.06 2.06-.94-2.06-.94-.94-2.06-.94 2.06-2.06.94zm-11 1L8.5 8.5l.94-2.06 2.06-.94-2.06-.94L8.5 2.5l-.94 2.06-2.06.94zm10 10l.94 2.06.94-2.06 2.06-.94-2.06-.94-.94-2.06-.94 2.06-2.06.94z\"/><path d=\"M17.41 7.96l-1.37-1.37c-.4-.4-.92-.59-1.43-.59-.52 0-1.04.2-1.43.59L10.3 9.45l-7.72 7.72c-.78.78-.78 2.05 0 2.83L4 21.41c.39.39.9.59 1.41.59.51 0 1.02-.2 1.41-.59l7.78-7.78 2.81-2.81c.8-.78.8-2.07 0-2.86zM5.41 20L4 18.59l7.72-7.72 1.47 1.35L5.41 20z\"/>\n",
              "  </svg>\n",
              "      </button>\n",
              "      \n",
              "  <style>\n",
              "    .colab-df-container {\n",
              "      display:flex;\n",
              "      flex-wrap:wrap;\n",
              "      gap: 12px;\n",
              "    }\n",
              "\n",
              "    .colab-df-convert {\n",
              "      background-color: #E8F0FE;\n",
              "      border: none;\n",
              "      border-radius: 50%;\n",
              "      cursor: pointer;\n",
              "      display: none;\n",
              "      fill: #1967D2;\n",
              "      height: 32px;\n",
              "      padding: 0 0 0 0;\n",
              "      width: 32px;\n",
              "    }\n",
              "\n",
              "    .colab-df-convert:hover {\n",
              "      background-color: #E2EBFA;\n",
              "      box-shadow: 0px 1px 2px rgba(60, 64, 67, 0.3), 0px 1px 3px 1px rgba(60, 64, 67, 0.15);\n",
              "      fill: #174EA6;\n",
              "    }\n",
              "\n",
              "    [theme=dark] .colab-df-convert {\n",
              "      background-color: #3B4455;\n",
              "      fill: #D2E3FC;\n",
              "    }\n",
              "\n",
              "    [theme=dark] .colab-df-convert:hover {\n",
              "      background-color: #434B5C;\n",
              "      box-shadow: 0px 1px 3px 1px rgba(0, 0, 0, 0.15);\n",
              "      filter: drop-shadow(0px 1px 2px rgba(0, 0, 0, 0.3));\n",
              "      fill: #FFFFFF;\n",
              "    }\n",
              "  </style>\n",
              "\n",
              "      <script>\n",
              "        const buttonEl =\n",
              "          document.querySelector('#df-8b9ebdd3-a4e6-431c-80c8-5bae9658f53b button.colab-df-convert');\n",
              "        buttonEl.style.display =\n",
              "          google.colab.kernel.accessAllowed ? 'block' : 'none';\n",
              "\n",
              "        async function convertToInteractive(key) {\n",
              "          const element = document.querySelector('#df-8b9ebdd3-a4e6-431c-80c8-5bae9658f53b');\n",
              "          const dataTable =\n",
              "            await google.colab.kernel.invokeFunction('convertToInteractive',\n",
              "                                                     [key], {});\n",
              "          if (!dataTable) return;\n",
              "\n",
              "          const docLinkHtml = 'Like what you see? Visit the ' +\n",
              "            '<a target=\"_blank\" href=https://colab.research.google.com/notebooks/data_table.ipynb>data table notebook</a>'\n",
              "            + ' to learn more about interactive tables.';\n",
              "          element.innerHTML = '';\n",
              "          dataTable['output_type'] = 'display_data';\n",
              "          await google.colab.output.renderOutput(dataTable, element);\n",
              "          const docLink = document.createElement('div');\n",
              "          docLink.innerHTML = docLinkHtml;\n",
              "          element.appendChild(docLink);\n",
              "        }\n",
              "      </script>\n",
              "    </div>\n",
              "  </div>\n",
              "  "
            ]
          },
          "metadata": {},
          "execution_count": 7
        }
      ],
      "source": [
        "#Prueba para saber si el ordenamiento en clases resulto bien\n",
        "df.loc[df['image_id']=='ISIC_0024312']"
      ]
    },
    {
      "cell_type": "markdown",
      "metadata": {
        "id": "JZ0Htz6_VNIl"
      },
      "source": [
        "## **The types of diagnosis can be seen below:  \\Los tipos de diagnostico se pueden ver abajo**\n",
        "\n",
        "*   0: akiec,\n",
        "*   1: bcc,\n",
        "*   2: bkl, \n",
        "*   3: dermatofibroma (df),\n",
        "*   4: melanoma (mel),\n",
        "*   5: melanocytic nevi (nv),\n",
        "*   6: vascular lesions (angiomas, angiokeratomas, pyogenic granulomas and hemorrhage, vasc)\n"
      ]
    },
    {
      "cell_type": "code",
      "execution_count": null,
      "metadata": {
        "colab": {
          "base_uri": "https://localhost:8080/"
        },
        "id": "N5CXscOaVCRp",
        "outputId": "a23fd9f6-099a-4b3c-baf5-755953dc1fa8"
      },
      "outputs": [
        {
          "output_type": "execute_result",
          "data": {
            "text/plain": [
              "10015"
            ]
          },
          "metadata": {},
          "execution_count": 8
        }
      ],
      "source": [
        "img_list = list(df['image_id'])\n",
        "len(img_list)"
      ]
    },
    {
      "cell_type": "code",
      "execution_count": null,
      "metadata": {
        "colab": {
          "base_uri": "https://localhost:8080/"
        },
        "id": "b0T6vB5dUfl4",
        "outputId": "c7b962cf-d392-4653-f546-b258a9c6dc0a"
      },
      "outputs": [
        {
          "output_type": "execute_result",
          "data": {
            "text/plain": [
              "array(['bkl', 'nv', 'df', 'mel', 'vasc', 'bcc', 'akiec'], dtype=object)"
            ]
          },
          "metadata": {},
          "execution_count": 6
        }
      ],
      "source": [
        "df['dx'].unique()"
      ]
    },
    {
      "cell_type": "code",
      "source": [
        "df['dx'].value_counts()"
      ],
      "metadata": {
        "colab": {
          "base_uri": "https://localhost:8080/"
        },
        "id": "gOZwesLtw7gA",
        "outputId": "38ab0cc6-0747-469c-f33f-7007e9451f4b"
      },
      "execution_count": null,
      "outputs": [
        {
          "output_type": "execute_result",
          "data": {
            "text/plain": [
              "nv       6705\n",
              "mel      1113\n",
              "bkl      1099\n",
              "bcc       514\n",
              "akiec     327\n",
              "vasc      142\n",
              "df        115\n",
              "Name: dx, dtype: int64"
            ]
          },
          "metadata": {},
          "execution_count": 10
        }
      ]
    },
    {
      "cell_type": "code",
      "source": [
        "df['dx'].value_counts().plot(kind='bar')"
      ],
      "metadata": {
        "colab": {
          "base_uri": "https://localhost:8080/",
          "height": 301
        },
        "id": "z7b-TUv4vpeA",
        "outputId": "7c45971f-6535-4cbe-dd75-982d25eddbbb"
      },
      "execution_count": null,
      "outputs": [
        {
          "output_type": "execute_result",
          "data": {
            "text/plain": [
              "<matplotlib.axes._subplots.AxesSubplot at 0x7fac9b4cc3d0>"
            ]
          },
          "metadata": {},
          "execution_count": 7
        },
        {
          "output_type": "display_data",
          "data": {
            "text/plain": [
              "<Figure size 432x288 with 1 Axes>"
            ],
            "image/png": "[encoded data removed]"
          },
          "metadata": {
            "needs_background": "light"
          }
        }
      ]
    },
    {
      "cell_type": "markdown",
      "source": [
        "Besides that, in this case i'll separate my data into two classes. Melanoma and non_melanoma\n",
        "\n",
        "I used split-folders to create a train validation test split with stratified sampling from the original dataset"
      ],
      "metadata": {
        "id": "0dVtcDR1SGcp"
      }
    },
    {
      "cell_type": "markdown",
      "metadata": {
        "id": "Zxlq2LA9YBW_"
      },
      "source": [
        "## Preprocessing data"
      ]
    },
    {
      "cell_type": "code",
      "execution_count": 5,
      "metadata": {
        "id": "yicKkPPBXJHw"
      },
      "outputs": [],
      "source": [
        "def get_ImageDataGenerator():\n",
        "  return ImageDataGenerator(\n",
        "      preprocessing_function=preprocess_input,\n",
        "      brightness_range=(0.3,1),\n",
        "      zoom_range=0.2,\n",
        "  )\n",
        "\n",
        "def get_generator(image_data_generator,directory,batch_s=None,seed=None,shuffle=None):\n",
        "  return image_data_generator.flow_from_directory(\n",
        "      directory,\n",
        "      target_size=(224,224),\n",
        "      batch_size=batch_s,\n",
        "      class_mode='categorical',\n",
        "      shuffle=shuffle,\n",
        "      seed=seed\n",
        "  )"
      ]
    },
    {
      "cell_type": "code",
      "execution_count": 6,
      "metadata": {
        "colab": {
          "base_uri": "https://localhost:8080/"
        },
        "id": "seV9Xt8o4NDy",
        "outputId": "5d05edd6-d79a-4498-821e-122205b7f27b"
      },
      "outputs": [
        {
          "output_type": "stream",
          "name": "stdout",
          "text": [
            "Found 14242 images belonging to 2 classes.\n",
            "Found 1780 images belonging to 2 classes.\n",
            "Found 1782 images belonging to 2 classes.\n"
          ]
        }
      ],
      "source": [
        "my_directory = '/content/data'\n",
        "batch = 32\n",
        "image_gen = get_ImageDataGenerator()\n",
        "train_generator = get_generator(image_gen,my_directory+'/train',batch,1,True)\n",
        "val_generator   = get_generator(image_gen,my_directory+'/val',batch,1,False)\n",
        "test_generator  = get_generator(image_gen,my_directory+'/test',1,1,False)"
      ]
    },
    {
      "cell_type": "code",
      "execution_count": null,
      "metadata": {
        "id": "jWcjbKfJ48Aw"
      },
      "outputs": [],
      "source": [
        "batch_prueba = next(train_generator)"
      ]
    },
    {
      "cell_type": "code",
      "execution_count": null,
      "metadata": {
        "id": "L4Jflxbh6R1I"
      },
      "outputs": [],
      "source": [
        "#Now that i have a data generator, i'll print out some samples\n",
        "classes = ['bkl', 'nv', 'df', 'mel', 'vasc', 'bcc', 'akiec']\n",
        "\n",
        "plt.figure(figsize=(10,10))\n",
        "for n in range(16):\n",
        "  ax = plt.subplot(4,4,n+1)\n",
        "  plt.imshow(batch_prueba[0][n])#.astype('uint8'))\n",
        "  plt.title(classes[np.where(batch_prueba[1][n]==1.)[0][0]])\n",
        "  #plt.axis('off')"
      ]
    },
    {
      "cell_type": "code",
      "execution_count": 32,
      "metadata": {
        "id": "W1QDZF_8aFBR"
      },
      "outputs": [],
      "source": [
        "from tensorflow.python.keras.layers.pooling import AveragePooling2D\n",
        "\n",
        "#Pretained Model\n",
        "def load_pretrained_model():\n",
        "  input_t = Input(shape=(224,224,3))\n",
        "  #model = MobileNetV2(weights='imagenet',include_top=False,input_shape=input_t)\n",
        "  #model = ResNet50V2(weights='imagenet',include_top=False,input_tensor=input_t)\n",
        "  model = VGG19(weights='imagenet',input_tensor=input_t,include_top=False)\n",
        "  #Hacemos un freezing a las capas que ya estaban entrenadas en el modelo cargado\n",
        "  model.trainable = False\n",
        "  return model\n",
        "\n",
        "#añadimos nuestro nuevo modelo encima del preentrenado y compilamos\n",
        "def add_new_head(feature_extractor_model):\n",
        "  prev_output   = feature_extractor_model.output\n",
        "  head_conv2d   = Conv2D(20,2)(prev_output)\n",
        "  head_batchN1  = BatchNormalization()(head_conv2d)\n",
        "  head_relu_1   = Activation('relu')(head_batchN1)\n",
        "  head_maxpool  = MaxPooling2D()(head_relu_1)\n",
        "  head_flatten  = Flatten()(head_maxpool)\n",
        "  head_dense1   = Dense(512, kernel_regularizer=L2(1e-5),kernel_initializer='he_normal',bias_initializer='zeros')(head_flatten)\n",
        "  head_batchN2  = BatchNormalization()(head_dense1)\n",
        "  head_relu_2   = Activation('relu')(head_batchN2)\n",
        "  head_drop1    = Dropout(0.5)(head_relu_2)\n",
        "  head_output   = Dense(2,activation='softmax')(head_drop1)\n",
        "  model         = Model(inputs=feature_extractor_model.input,outputs=head_output)\n",
        "\n",
        "  opt = Adam(1e-3)\n",
        "  metric = [\n",
        "            tf.keras.metrics.CategoricalAccuracy(),\n",
        "            tf.keras.metrics.Precision(),\n",
        "            tf.keras.metrics.Recall()\n",
        "  ]\n",
        "  model.compile(\n",
        "      optimizer=opt,\n",
        "      loss='categorical_crossentropy',\n",
        "      metrics=metric\n",
        "  )\n",
        "  return model"
      ]
    },
    {
      "cell_type": "code",
      "execution_count": 33,
      "metadata": {
        "id": "c--9EBq_2Xbm"
      },
      "outputs": [],
      "source": [
        "base_model = load_pretrained_model()\n",
        "#base_model.summary()"
      ]
    },
    {
      "cell_type": "code",
      "execution_count": 34,
      "metadata": {
        "id": "yWkur4Cy2d6N",
        "colab": {
          "base_uri": "https://localhost:8080/"
        },
        "outputId": "b810da43-3650-4fa0-f9bf-f7116430909c"
      },
      "outputs": [
        {
          "output_type": "stream",
          "name": "stdout",
          "text": [
            "Model: \"model_2\"\n",
            "_________________________________________________________________\n",
            " Layer (type)                Output Shape              Param #   \n",
            "=================================================================\n",
            " input_3 (InputLayer)        [(None, 224, 224, 3)]     0         \n",
            "                                                                 \n",
            " block1_conv1 (Conv2D)       (None, 224, 224, 64)      1792      \n",
            "                                                                 \n",
            " block1_conv2 (Conv2D)       (None, 224, 224, 64)      36928     \n",
            "                                                                 \n",
            " block1_pool (MaxPooling2D)  (None, 112, 112, 64)      0         \n",
            "                                                                 \n",
            " block2_conv1 (Conv2D)       (None, 112, 112, 128)     73856     \n",
            "                                                                 \n",
            " block2_conv2 (Conv2D)       (None, 112, 112, 128)     147584    \n",
            "                                                                 \n",
            " block2_pool (MaxPooling2D)  (None, 56, 56, 128)       0         \n",
            "                                                                 \n",
            " block3_conv1 (Conv2D)       (None, 56, 56, 256)       295168    \n",
            "                                                                 \n",
            " block3_conv2 (Conv2D)       (None, 56, 56, 256)       590080    \n",
            "                                                                 \n",
            " block3_conv3 (Conv2D)       (None, 56, 56, 256)       590080    \n",
            "                                                                 \n",
            " block3_conv4 (Conv2D)       (None, 56, 56, 256)       590080    \n",
            "                                                                 \n",
            " block3_pool (MaxPooling2D)  (None, 28, 28, 256)       0         \n",
            "                                                                 \n",
            " block4_conv1 (Conv2D)       (None, 28, 28, 512)       1180160   \n",
            "                                                                 \n",
            " block4_conv2 (Conv2D)       (None, 28, 28, 512)       2359808   \n",
            "                                                                 \n",
            " block4_conv3 (Conv2D)       (None, 28, 28, 512)       2359808   \n",
            "                                                                 \n",
            " block4_conv4 (Conv2D)       (None, 28, 28, 512)       2359808   \n",
            "                                                                 \n",
            " block4_pool (MaxPooling2D)  (None, 14, 14, 512)       0         \n",
            "                                                                 \n",
            " block5_conv1 (Conv2D)       (None, 14, 14, 512)       2359808   \n",
            "                                                                 \n",
            " block5_conv2 (Conv2D)       (None, 14, 14, 512)       2359808   \n",
            "                                                                 \n",
            " block5_conv3 (Conv2D)       (None, 14, 14, 512)       2359808   \n",
            "                                                                 \n",
            " block5_conv4 (Conv2D)       (None, 14, 14, 512)       2359808   \n",
            "                                                                 \n",
            " block5_pool (MaxPooling2D)  (None, 7, 7, 512)         0         \n",
            "                                                                 \n",
            " conv2d_2 (Conv2D)           (None, 6, 6, 20)          40980     \n",
            "                                                                 \n",
            " batch_normalization_4 (Batc  (None, 6, 6, 20)         80        \n",
            " hNormalization)                                                 \n",
            "                                                                 \n",
            " activation_4 (Activation)   (None, 6, 6, 20)          0         \n",
            "                                                                 \n",
            " max_pooling2d_2 (MaxPooling  (None, 3, 3, 20)         0         \n",
            " 2D)                                                             \n",
            "                                                                 \n",
            " flatten_2 (Flatten)         (None, 180)               0         \n",
            "                                                                 \n",
            " dense_4 (Dense)             (None, 512)               92672     \n",
            "                                                                 \n",
            " batch_normalization_5 (Batc  (None, 512)              2048      \n",
            " hNormalization)                                                 \n",
            "                                                                 \n",
            " activation_5 (Activation)   (None, 512)               0         \n",
            "                                                                 \n",
            " dropout_2 (Dropout)         (None, 512)               0         \n",
            "                                                                 \n",
            " dense_5 (Dense)             (None, 2)                 1026      \n",
            "                                                                 \n",
            "=================================================================\n",
            "Total params: 20,161,190\n",
            "Trainable params: 135,742\n",
            "Non-trainable params: 20,025,448\n",
            "_________________________________________________________________\n"
          ]
        }
      ],
      "source": [
        "#new_model = add_new_head(feature_stractor)\n",
        "new_model = add_new_head(base_model)\n",
        "new_model.summary()"
      ]
    },
    {
      "cell_type": "code",
      "execution_count": 11,
      "metadata": {
        "id": "UMOK79_rDdF2"
      },
      "outputs": [],
      "source": [
        "def scheduler(epoch,lr):\n",
        "  if epoch<1:\n",
        "    return lr\n",
        "  else:\n",
        "    return lr*tf.math.exp(-0.105)\n",
        "\n",
        "def checkpoint_best():\n",
        "  path = 'checkpoint_best/checkpoint'\n",
        "  checkp = ModelCheckpoint(\n",
        "      filepath=path,\n",
        "      save_weights_only=True,\n",
        "      save_freq='epoch',\n",
        "      monitor='val_categorical_accuracy',\n",
        "      save_best_only=True,\n",
        "      verbose=1\n",
        "  )\n",
        "  return checkp\n",
        "\n",
        "def train_model_gen(model,train_gen,val_gen,epochs):\n",
        "  early_stop = EarlyStopping(patience=1,monitor='val_categorical_accuracy')\n",
        "  #reduce_lr  = ReduceLROnPlateau(monitor='val_accuracy',factor=0.5,patience=2)\n",
        "\n",
        "  return model.fit(\n",
        "      train_gen,\n",
        "      steps_per_epoch  = train_gen.samples // batch,\n",
        "      validation_data  = val_gen,\n",
        "      validation_steps = val_gen.samples // batch,\n",
        "      epochs=epochs,\n",
        "      callbacks=[tf.keras.callbacks.LearningRateScheduler(scheduler),early_stop,checkpoint_best()],\n",
        "      verbose=1\n",
        "      )"
      ]
    },
    {
      "cell_type": "markdown",
      "source": [
        "## Entrenamiento"
      ],
      "metadata": {
        "id": "DL_YE5XEQMAd"
      }
    },
    {
      "cell_type": "code",
      "source": [
        "history = train_model_gen(new_model,train_generator,val_generator,2)"
      ],
      "metadata": {
        "colab": {
          "base_uri": "https://localhost:8080/"
        },
        "id": "ua4KFU3LAeZc",
        "outputId": "df1577a3-beb6-4730-91f8-c29c1f0852bf"
      },
      "execution_count": 12,
      "outputs": [
        {
          "output_type": "stream",
          "name": "stdout",
          "text": [
            "Epoch 1/2\n",
            "445/445 [==============================] - ETA: 0s - loss: 0.3554 - categorical_accuracy: 0.8376 - precision: 0.8376 - recall: 0.8376\n",
            "Epoch 1: val_categorical_accuracy improved from -inf to 0.88068, saving model to checkpoint_best/checkpoint\n",
            "445/445 [==============================] - 327s 700ms/step - loss: 0.3554 - categorical_accuracy: 0.8376 - precision: 0.8376 - recall: 0.8376 - val_loss: 0.2517 - val_categorical_accuracy: 0.8807 - val_precision: 0.8807 - val_recall: 0.8807 - lr: 0.0010\n",
            "Epoch 2/2\n",
            "445/445 [==============================] - ETA: 0s - loss: 0.2764 - categorical_accuracy: 0.8704 - precision: 0.8704 - recall: 0.8704\n",
            "Epoch 2: val_categorical_accuracy improved from 0.88068 to 0.88807, saving model to checkpoint_best/checkpoint\n",
            "445/445 [==============================] - 292s 656ms/step - loss: 0.2764 - categorical_accuracy: 0.8704 - precision: 0.8704 - recall: 0.8704 - val_loss: 0.2414 - val_categorical_accuracy: 0.8881 - val_precision: 0.8881 - val_recall: 0.8881 - lr: 9.0032e-04\n"
          ]
        }
      ]
    },
    {
      "cell_type": "code",
      "execution_count": 13,
      "metadata": {
        "colab": {
          "base_uri": "https://localhost:8080/",
          "height": 621
        },
        "id": "zhgQiWbKkwsZ",
        "outputId": "6df455cf-494c-45e6-d5d6-e3f7c2557635"
      },
      "outputs": [
        {
          "output_type": "display_data",
          "data": {
            "text/plain": [
              "<Figure size 1440x720 with 2 Axes>"
            ],
            "image/png": "[encoded data removed]"
          },
          "metadata": {
            "needs_background": "light"
          }
        }
      ],
      "source": [
        "plt.figure(figsize=(20,10))\n",
        "plt.subplot(121)\n",
        "try:\n",
        "  plt.plot(history.history['categorical_accuracy'])\n",
        "  plt.plot(history.history['val_categorical_accuracy'])\n",
        "except KeyError:\n",
        "  plt.plot(history.history['acc_categorical_'])\n",
        "  plt.plot(history.history['val_categorical_acc'])\n",
        "plt.title('Accuracy vs epochs')\n",
        "plt.xlabel('Epochs')\n",
        "plt.ylabel('Accuracy')\n",
        "plt.legend(['training', 'validation'])\n",
        "plt.subplot(122)\n",
        "plt.plot(history.history['loss'])\n",
        "plt.plot(history.history['val_loss'])\n",
        "plt.xlabel('epochs')\n",
        "plt.ylabel('loss')\n",
        "plt.legend(['training_loss','val_loss'])\n",
        "plt.show()"
      ]
    },
    {
      "cell_type": "markdown",
      "source": [
        "## Final training pre-fine_tuning"
      ],
      "metadata": {
        "id": "aWKCZrrDak1c"
      }
    },
    {
      "cell_type": "markdown",
      "source": [
        "## Fine Tunning section"
      ],
      "metadata": {
        "id": "pPLyuuSdaI6J"
      }
    },
    {
      "cell_type": "code",
      "execution_count": 25,
      "metadata": {
        "id": "kxVXjJsv2LOA",
        "colab": {
          "base_uri": "https://localhost:8080/"
        },
        "outputId": "4951df5a-b49f-4e5f-cc30-28d42dbbf3c2"
      },
      "outputs": [
        {
          "output_type": "stream",
          "name": "stdout",
          "text": [
            "Number of layers:  22\n"
          ]
        }
      ],
      "source": [
        "print(\"Number of layers: \", len(base_model.layers))"
      ]
    },
    {
      "cell_type": "code",
      "source": [
        "base_model.trainable =True\n",
        "fine_tune_at = 20\n",
        "for layer in base_model.layers[:fine_tune_at]:\n",
        "  layer.trainable = False"
      ],
      "metadata": {
        "id": "k-bvH-bVKPVL"
      },
      "execution_count": 26,
      "outputs": []
    },
    {
      "cell_type": "code",
      "source": [
        "early_stop = EarlyStopping(patience=1,monitor='val_categorical_accuracy')\n",
        "fine_metric = [\n",
        "            tf.keras.metrics.CategoricalAccuracy(),\n",
        "            tf.keras.metrics.Precision(),\n",
        "            tf.keras.metrics.Recall()\n",
        "  ]\n",
        "new_model.compile(\n",
        "    loss='categorical_crossentropy',\n",
        "    metrics=fine_metric,\n",
        "    optimizer = Adam(1e-5)\n",
        ")\n",
        "new_model.summary()"
      ],
      "metadata": {
        "colab": {
          "base_uri": "https://localhost:8080/"
        },
        "id": "xOGlil7_Kd9k",
        "outputId": "5268009a-7326-4d04-9031-a8c17d7500e9"
      },
      "execution_count": 27,
      "outputs": [
        {
          "output_type": "stream",
          "name": "stdout",
          "text": [
            "Model: \"model_1\"\n",
            "_________________________________________________________________\n",
            " Layer (type)                Output Shape              Param #   \n",
            "=================================================================\n",
            " input_2 (InputLayer)        [(None, 224, 224, 3)]     0         \n",
            "                                                                 \n",
            " block1_conv1 (Conv2D)       (None, 224, 224, 64)      1792      \n",
            "                                                                 \n",
            " block1_conv2 (Conv2D)       (None, 224, 224, 64)      36928     \n",
            "                                                                 \n",
            " block1_pool (MaxPooling2D)  (None, 112, 112, 64)      0         \n",
            "                                                                 \n",
            " block2_conv1 (Conv2D)       (None, 112, 112, 128)     73856     \n",
            "                                                                 \n",
            " block2_conv2 (Conv2D)       (None, 112, 112, 128)     147584    \n",
            "                                                                 \n",
            " block2_pool (MaxPooling2D)  (None, 56, 56, 128)       0         \n",
            "                                                                 \n",
            " block3_conv1 (Conv2D)       (None, 56, 56, 256)       295168    \n",
            "                                                                 \n",
            " block3_conv2 (Conv2D)       (None, 56, 56, 256)       590080    \n",
            "                                                                 \n",
            " block3_conv3 (Conv2D)       (None, 56, 56, 256)       590080    \n",
            "                                                                 \n",
            " block3_conv4 (Conv2D)       (None, 56, 56, 256)       590080    \n",
            "                                                                 \n",
            " block3_pool (MaxPooling2D)  (None, 28, 28, 256)       0         \n",
            "                                                                 \n",
            " block4_conv1 (Conv2D)       (None, 28, 28, 512)       1180160   \n",
            "                                                                 \n",
            " block4_conv2 (Conv2D)       (None, 28, 28, 512)       2359808   \n",
            "                                                                 \n",
            " block4_conv3 (Conv2D)       (None, 28, 28, 512)       2359808   \n",
            "                                                                 \n",
            " block4_conv4 (Conv2D)       (None, 28, 28, 512)       2359808   \n",
            "                                                                 \n",
            " block4_pool (MaxPooling2D)  (None, 14, 14, 512)       0         \n",
            "                                                                 \n",
            " block5_conv1 (Conv2D)       (None, 14, 14, 512)       2359808   \n",
            "                                                                 \n",
            " block5_conv2 (Conv2D)       (None, 14, 14, 512)       2359808   \n",
            "                                                                 \n",
            " block5_conv3 (Conv2D)       (None, 14, 14, 512)       2359808   \n",
            "                                                                 \n",
            " block5_conv4 (Conv2D)       (None, 14, 14, 512)       2359808   \n",
            "                                                                 \n",
            " block5_pool (MaxPooling2D)  (None, 7, 7, 512)         0         \n",
            "                                                                 \n",
            " conv2d_1 (Conv2D)           (None, 6, 6, 20)          40980     \n",
            "                                                                 \n",
            " batch_normalization_2 (Batc  (None, 6, 6, 20)         80        \n",
            " hNormalization)                                                 \n",
            "                                                                 \n",
            " activation_2 (Activation)   (None, 6, 6, 20)          0         \n",
            "                                                                 \n",
            " max_pooling2d_1 (MaxPooling  (None, 3, 3, 20)         0         \n",
            " 2D)                                                             \n",
            "                                                                 \n",
            " flatten_1 (Flatten)         (None, 180)               0         \n",
            "                                                                 \n",
            " dense_2 (Dense)             (None, 512)               92672     \n",
            "                                                                 \n",
            " batch_normalization_3 (Batc  (None, 512)              2048      \n",
            " hNormalization)                                                 \n",
            "                                                                 \n",
            " activation_3 (Activation)   (None, 512)               0         \n",
            "                                                                 \n",
            " dropout_1 (Dropout)         (None, 512)               0         \n",
            "                                                                 \n",
            " dense_3 (Dense)             (None, 2)                 1026      \n",
            "                                                                 \n",
            "=================================================================\n",
            "Total params: 20,161,190\n",
            "Trainable params: 2,495,550\n",
            "Non-trainable params: 17,665,640\n",
            "_________________________________________________________________\n"
          ]
        }
      ]
    },
    {
      "cell_type": "code",
      "source": [
        "ini_epochs = len(history.epoch)\n",
        "fine_tun_epochs = 15\n",
        "total_epochs = ini_epochs + fine_tun_epochs\n",
        "\n",
        "def checkpoint_best_ft():\n",
        "  path = 'checkpoint_best_ft/checkpoint'\n",
        "  checkp = ModelCheckpoint(\n",
        "      filepath=path,\n",
        "      save_weights_only=True,\n",
        "      save_freq='epoch',\n",
        "      monitor='val_categorical_accuracy',\n",
        "      save_best_only=True,\n",
        "      verbose=1\n",
        "  )\n",
        "  return checkp\n",
        "def train_model_fine_tuning(model,train_gen,val_gen,total_epochs,ini_epoch):\n",
        "  early_stop = EarlyStopping(patience=1,monitor='val_categorical_accuracy')\n",
        "  #reduce_lr  = ReduceLROnPlateau(monitor='val_accuracy',factor=0.5,patience=2)\n",
        "  return model.fit(\n",
        "      train_gen,\n",
        "      steps_per_epoch  = train_gen.samples // batch,\n",
        "      validation_data  = val_gen,\n",
        "      validation_steps = val_gen.samples // batch,\n",
        "      epochs=total_epochs,\n",
        "      initial_epoch=ini_epoch,\n",
        "      callbacks=[tf.keras.callbacks.LearningRateScheduler(scheduler),early_stop,checkpoint_best_ft()],\n",
        "      verbose=1\n",
        "      )"
      ],
      "metadata": {
        "id": "vbcmycrMLJlE"
      },
      "execution_count": 28,
      "outputs": []
    },
    {
      "cell_type": "code",
      "source": [
        "fine_history = train_model_fine_tuning(new_model,train_generator,val_generator,total_epochs,ini_epochs)"
      ],
      "metadata": {
        "colab": {
          "base_uri": "https://localhost:8080/"
        },
        "id": "46KyLMvkNGPt",
        "outputId": "5396c108-af75-4ed5-c66b-be0a8cc14032"
      },
      "execution_count": 29,
      "outputs": [
        {
          "output_type": "stream",
          "name": "stdout",
          "text": [
            "Epoch 3/17\n",
            "445/445 [==============================] - ETA: 0s - loss: 0.2578 - categorical_accuracy: 0.8798 - precision_3: 0.8798 - recall_3: 0.8798\n",
            "Epoch 3: val_categorical_accuracy improved from -inf to 0.89091, saving model to checkpoint_best_ft/checkpoint\n",
            "445/445 [==============================] - 298s 667ms/step - loss: 0.2578 - categorical_accuracy: 0.8798 - precision_3: 0.8798 - recall_3: 0.8798 - val_loss: 0.2331 - val_categorical_accuracy: 0.8909 - val_precision_3: 0.8909 - val_recall_3: 0.8909 - lr: 9.0032e-06\n",
            "Epoch 4/17\n",
            "445/445 [==============================] - ETA: 0s - loss: 0.2408 - categorical_accuracy: 0.8913 - precision_3: 0.8913 - recall_3: 0.8913\n",
            "Epoch 4: val_categorical_accuracy improved from 0.89091 to 0.90284, saving model to checkpoint_best_ft/checkpoint\n",
            "445/445 [==============================] - 291s 653ms/step - loss: 0.2408 - categorical_accuracy: 0.8913 - precision_3: 0.8913 - recall_3: 0.8913 - val_loss: 0.2233 - val_categorical_accuracy: 0.9028 - val_precision_3: 0.9028 - val_recall_3: 0.9028 - lr: 8.1058e-06\n",
            "Epoch 5/17\n",
            "445/445 [==============================] - ETA: 0s - loss: 0.2330 - categorical_accuracy: 0.8956 - precision_3: 0.8956 - recall_3: 0.8956\n",
            "Epoch 5: val_categorical_accuracy did not improve from 0.90284\n",
            "445/445 [==============================] - 291s 655ms/step - loss: 0.2330 - categorical_accuracy: 0.8956 - precision_3: 0.8956 - recall_3: 0.8956 - val_loss: 0.2255 - val_categorical_accuracy: 0.8926 - val_precision_3: 0.8926 - val_recall_3: 0.8926 - lr: 7.2979e-06\n"
          ]
        }
      ]
    },
    {
      "cell_type": "code",
      "source": [
        "cat_acc     = [*history.history['categorical_accuracy'],*fine_history.history['categorical_accuracy']]\n",
        "val_cat_acc = [*history.history['val_categorical_accuracy'],*fine_history.history['val_categorical_accuracy']]\n",
        "loss_       = [*history.history['loss'],*fine_history.history['loss']]\n",
        "val_loss    = [*history.history['val_loss'],*fine_history.history['val_loss']]"
      ],
      "metadata": {
        "id": "5ILeoV3MX0Dd"
      },
      "execution_count": 30,
      "outputs": []
    },
    {
      "cell_type": "code",
      "source": [
        "plt.figure(figsize=(20,10))\n",
        "plt.subplot(121)\n",
        "plt.plot(cat_acc)\n",
        "plt.plot(val_cat_acc)\n",
        "plt.title('Accuracy vs epochs')\n",
        "plt.xlabel('Epochs')\n",
        "plt.ylabel('Accuracy')\n",
        "plt.legend(['training', 'validation'])\n",
        "plt.subplot(122)\n",
        "plt.plot(loss_)\n",
        "plt.plot(val_loss)\n",
        "plt.xlabel('epochs')\n",
        "plt.ylabel('loss')\n",
        "plt.legend(['training_loss','val_loss'])\n",
        "plt.show()"
      ],
      "metadata": {
        "id": "n-xjN7fROY3s",
        "colab": {
          "base_uri": "https://localhost:8080/",
          "height": 621
        },
        "outputId": "66d669bb-5f94-473c-89e1-bd591a626878"
      },
      "execution_count": 31,
      "outputs": [
        {
          "output_type": "display_data",
          "data": {
            "text/plain": [
              "<Figure size 1440x720 with 2 Axes>"
            ],
            "image/png": "[encoded data removed]"
          },
          "metadata": {
            "needs_background": "light"
          }
        }
      ]
    },
    {
      "cell_type": "markdown",
      "source": [
        "## Model Evaluation on Test set"
      ],
      "metadata": {
        "id": "rhIHh1DyByUi"
      }
    },
    {
      "cell_type": "code",
      "source": [
        "new_model.load_weights('/content/checkpoint_best_ft/checkpoint')"
      ],
      "metadata": {
        "colab": {
          "base_uri": "https://localhost:8080/"
        },
        "id": "9EpjmP-0GBf3",
        "outputId": "70d82490-c7d8-4c20-d07a-4befe09373c6"
      },
      "execution_count": 35,
      "outputs": [
        {
          "output_type": "execute_result",
          "data": {
            "text/plain": [
              "<tensorflow.python.training.tracking.util.CheckpointLoadStatus at 0x7f918a667810>"
            ]
          },
          "metadata": {},
          "execution_count": 35
        }
      ]
    },
    {
      "cell_type": "code",
      "source": [
        "files = len(test_generator.filenames)\n",
        "\n",
        "labels = []\n",
        "for i in range(files):\n",
        "  labels.append(test_generator.next()[1])\n",
        "\n",
        "predictions = new_model.predict(test_generator,steps=files)\n",
        "y_pred      = [np.argmax(x) for x in predictions]\n",
        "y_true      = [np.argmax(y) for y in labels]"
      ],
      "metadata": {
        "id": "WsFhv_ZEDd8m"
      },
      "execution_count": 36,
      "outputs": []
    },
    {
      "cell_type": "code",
      "source": [
        "f1_score(y_true,y_pred)"
      ],
      "metadata": {
        "colab": {
          "base_uri": "https://localhost:8080/"
        },
        "id": "G0DzuanzEHOR",
        "outputId": "a67743b2-ca75-449b-e0e2-b7c3639c7d08"
      },
      "execution_count": 37,
      "outputs": [
        {
          "output_type": "execute_result",
          "data": {
            "text/plain": [
              "0.8740298507462687"
            ]
          },
          "metadata": {},
          "execution_count": 37
        }
      ]
    },
    {
      "cell_type": "code",
      "source": [
        "cm   = confusion_matrix(y_true,y_pred)\n",
        "disp = ConfusionMatrixDisplay(cm)\n",
        "disp.plot(cmap='copper_r')\n",
        "plt.show()"
      ],
      "metadata": {
        "colab": {
          "base_uri": "https://localhost:8080/",
          "height": 279
        },
        "id": "FaGeG77SB2G6",
        "outputId": "ee63e664-0b1a-4b9d-970e-ade453f41fae"
      },
      "execution_count": 38,
      "outputs": [
        {
          "output_type": "display_data",
          "data": {
            "text/plain": [
              "<Figure size 432x288 with 2 Axes>"
            ],
            "image/png": "[encoded data removed]"
          },
          "metadata": {
            "needs_background": "light"
          }
        }
      ]
    },
    {
      "cell_type": "code",
      "source": [
        "new_model.save('/content/drive/MyDrive/Proyectos/SkinCancer/SkinCancer_model_v5.h5')\n",
        "\n",
        "#model.load_weights('/content/drive/MyDrive/Introduction_tensorflow_week_5_assignment/checkpoint_best/checkpoint')\n",
        "#get_test_accuracy(model, test_data_gray, test_targets)"
      ],
      "metadata": {
        "id": "p9ErcJ-lCH8s"
      },
      "execution_count": 39,
      "outputs": []
    },
    {
      "cell_type": "markdown",
      "source": [
        "### predict for a single image and printing the filters for some layers"
      ],
      "metadata": {
        "id": "bqIk0S0c6TLV"
      }
    },
    {
      "cell_type": "code",
      "source": [
        "import keras.backend as K\n",
        "from keras.preprocessing.image import img_to_array"
      ],
      "metadata": {
        "id": "h8fCEzjFrItk"
      },
      "execution_count": 40,
      "outputs": []
    },
    {
      "cell_type": "code",
      "source": [
        "def load_img(path):\n",
        "  img = tf.keras.utils.load_img(path,target_size=(224,224,3))\n",
        "  img = img_to_array(img)\n",
        "  img = np.expand_dims(img,0)\n",
        "  img = preprocess_input(img)\n",
        "  #plt.imshow(img[0])\n",
        "  return img\n",
        "def predict_one(tensor):\n",
        "  prediction = new_model.predict(tensor)\n",
        "  return prediction\n"
      ],
      "metadata": {
        "id": "t4AEEXET6jOP"
      },
      "execution_count": 41,
      "outputs": []
    },
    {
      "cell_type": "code",
      "source": [
        "sample = load_img('/content/ISIC_0024313.jpg')\n",
        "new_model.predict(sample)"
      ],
      "metadata": {
        "colab": {
          "base_uri": "https://localhost:8080/"
        },
        "id": "Bd-sgO4N7JC-",
        "outputId": "a98d3e96-4da6-4c9c-b044-fd01c9ea6348"
      },
      "execution_count": 42,
      "outputs": [
        {
          "output_type": "execute_result",
          "data": {
            "text/plain": [
              "array([[0.39268765, 0.6073123 ]], dtype=float32)"
            ]
          },
          "metadata": {},
          "execution_count": 42
        }
      ]
    },
    {
      "cell_type": "code",
      "source": [
        "func = K.function([new_model.layers[0].input],new_model.get_layer('conv2d_2').output)\n",
        "final_conv_output = func(sample)\n",
        "final_conv_output.shape"
      ],
      "metadata": {
        "colab": {
          "base_uri": "https://localhost:8080/"
        },
        "id": "qS2UX4e7shVP",
        "outputId": "e1564ad2-8246-42fb-d265-97050d11af3b"
      },
      "execution_count": 67,
      "outputs": [
        {
          "output_type": "execute_result",
          "data": {
            "text/plain": [
              "(1, 6, 6, 20)"
            ]
          },
          "metadata": {},
          "execution_count": 67
        }
      ]
    },
    {
      "cell_type": "code",
      "source": [
        "fig,ax = plt.subplots(1,5,figsize=(15,15))\n",
        "j = 0\n",
        "for i in range(final_conv_output.shape[-1]):\n",
        "  if j<5:\n",
        "    ax[i].imshow(final_conv_output[0,:,:,i])\n",
        "  else:\n",
        "    break\n",
        "  j+=1\n",
        "plt.show()"
      ],
      "metadata": {
        "colab": {
          "base_uri": "https://localhost:8080/",
          "height": 192
        },
        "id": "iUWExbLP07yq",
        "outputId": "52da22fd-fab9-4767-d4a8-d0c976d9de82"
      },
      "execution_count": 68,
      "outputs": [
        {
          "output_type": "display_data",
          "data": {
            "text/plain": [
              "<Figure size 1080x1080 with 5 Axes>"
            ],
            "image/png": "[encoded data removed]"
          },
          "metadata": {
            "needs_background": "light"
          }
        }
      ]
    },
    {
      "cell_type": "markdown",
      "source": [
        "### Aditional functions and code employed\n"
      ],
      "metadata": {
        "id": "fZQU97fi6QAi"
      }
    },
    {
      "cell_type": "code",
      "execution_count": null,
      "metadata": {
        "id": "4cRL6OggGYGz"
      },
      "outputs": [],
      "source": [
        "#this part is only for the procces of re-ordering the data in a local pc, dont run here\n",
        "\n",
        "#Este fue el proceeso que hice para re-organizar todo el contenido en subcarpetas con cada clase, no ejecutar aqui\n",
        "#pues las rutas no son iguales y dará un error.\n",
        "#This part is just for grouping and dividing all the data into separate folders, one for each class\n",
        "#Adding \".jpg\" to all element in the column \"image_id\" \n",
        "df = pd.read_csv('HAM10000_metadata.csv')\n",
        "df['image_id'] = df['image_id'].astype(str) + '.jpg'\n",
        "\n",
        "#grouping all the data by dx type\n",
        "gropued_df = df[['image_id','dx']].groupby(['dx'])\n",
        "#Saving all the data into groups in a dictionary\n",
        "types_dic = {}\n",
        "for key,g in gropued_df:\n",
        "  types_dic[key] = list(g['image_id'])\n",
        "\n",
        "#storing the image's file location\n",
        "files = os.listdir('HAM10000_images')\n",
        "\n",
        "#Copying files into the new folders\n",
        "\n",
        "for index,file in enumerate(files):\n",
        "        keys = str([key for key,value in types_dic.items() if str(file) in value]).replace('[','').replace(']','').replace(\"'\",'')\n",
        "        shutil.copyfile(f'HAM10000_images/{file}','data/{}/{}'.format(keys,file))\n"
      ]
    },
    {
      "cell_type": "code",
      "source": [
        "from IPython.core.pylabtools import figsize\n",
        "epochs = [0,1,2]\n",
        "\n",
        "fig, axs = plt.subplots(2,2,figsize=(15,15))\n",
        "#-----------\n",
        "subplot1 = 'val_accuracy'\n",
        "for k, h in history_data.items():\n",
        "  axs[0,0].plot(epochs,h[subplot1],label=k,linewidth=4.0)\n",
        "  axs[0,0].text(epochs[-1],h[subplot1][-1],f'test: {k}')\n",
        "axs[0,0].set_ylabel(subplot1)\n",
        "axs[0,0].set_xlabel('Epochs')\n",
        "axs[0,0].grid(True)\n",
        "axs[0,0].legend()\n",
        "axs[0,0].set_title(subplot1)\n",
        "\n",
        "#-----------\n",
        "subplot1 = 'accuracy'\n",
        "for k, h in history_data.items():\n",
        "  axs[0,1].plot(epochs,h[subplot1],label=k,linewidth=4.0)\n",
        "  axs[0,1].text(epochs[-1],h[subplot1][-1],f'test: {k}')\n",
        "axs[0,1].set_ylabel(subplot1)\n",
        "axs[0,1].set_xlabel('Epochs')\n",
        "axs[0,1].grid(True)\n",
        "axs[0,1].legend()\n",
        "axs[0,1].set_title(subplot1)\n",
        "\n",
        "#-----------\n",
        "subplot1 = 'loss'\n",
        "for k, h in history_data.items():\n",
        "  axs[1,1].plot(epochs,h[subplot1],label=k,linewidth=4.0)\n",
        "  axs[1,1].text(epochs[-1],h[subplot1][-1],f'test: {k}')\n",
        "axs[1,1].set_ylabel(subplot1)\n",
        "axs[1,1].set_xlabel('Epochs')\n",
        "axs[1,1].grid(True)\n",
        "axs[1,1].legend()\n",
        "axs[1,1].set_title(subplot1)\n",
        "\n",
        "#-----------\n",
        "subplot1 = 'val_loss'\n",
        "for k, h in history_data.items():\n",
        "  axs[1,0].plot(epochs,h[subplot1],label=k,linewidth=4.0)\n",
        "  axs[1,0].text(epochs[-1],h[subplot1][-1],f'test: {k}')\n",
        "axs[1,0].set_ylabel(subplot1)\n",
        "axs[1,0].set_xlabel('Epochs')\n",
        "axs[1,0].grid(True)\n",
        "axs[1,0].legend()\n",
        "axs[1,0].set_title(subplot1)"
      ],
      "metadata": {
        "id": "L2EIXLFPFN8a"
      },
      "execution_count": null,
      "outputs": []
    }
  ],
  "metadata": {
    "accelerator": "GPU",
    "colab": {
      "collapsed_sections": [
        "fZQU97fi6QAi"
      ],
      "name": "SkinCancerProject.ipynb",
      "provenance": []
    },
    "kernelspec": {
      "display_name": "Python 3",
      "name": "python3"
    },
    "language_info": {
      "name": "python"
    },
    "gpuClass": "standard"
  },
  "nbformat": 4,
  "nbformat_minor": 0
}